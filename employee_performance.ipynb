{
 "cells": [
  {
   "cell_type": "code",
   "execution_count": 1,
   "metadata": {
    "collapsed": true
   },
   "outputs": [],
   "source": [
    "%matplotlib inline\n",
    "\n",
    "# Data Manipulation\n",
    "import numpy as np\n",
    "import pandas as pd\n",
    "import xlrd\n",
    "\n",
    "# Visualization \n",
    "import matplotlib.pyplot as plt\n",
    "import seaborn as sb\n",
    "\n",
    "# Preprocessing\n",
    "from sklearn.preprocessing import OneHotEncoder\n",
    "\n",
    "# Machine learning\n",
    "from sklearn.model_selection import train_test_split\n",
    "from sklearn import model_selection, tree, preprocessing, metrics, linear_model\n",
    "from sklearn.svm import SVC,LinearSVC\n",
    "from sklearn.ensemble import GradientBoostingClassifier\n",
    "from sklearn.neighbors import KNeighborsClassifier\n",
    "from sklearn.naive_bayes import GaussianNB\n",
    "from sklearn.linear_model import LogisticRegression, SGDClassifier\n",
    "from sklearn.tree import DecisionTreeClassifier\n",
    "#from catboost import CatBoostClassifier, Pool, cv\n",
    "\n",
    "# Let's ignore warnings\n",
    "import warnings\n",
    "warnings.filterwarnings('ignore')"
   ]
  },
  {
   "cell_type": "code",
   "execution_count": 2,
   "metadata": {
    "collapsed": true
   },
   "outputs": [],
   "source": [
    "emp=pd.read_excel(\"INX_Future_Inc_Employee_Performance_CDS_Project2_Data_V1.8.xls\")"
   ]
  },
  {
   "cell_type": "code",
   "execution_count": 3,
   "metadata": {},
   "outputs": [
    {
     "name": "stdout",
     "output_type": "stream",
     "text": [
      "<class 'pandas.core.frame.DataFrame'>\n",
      "RangeIndex: 1200 entries, 0 to 1199\n",
      "Data columns (total 28 columns):\n",
      "EmpNumber                       1200 non-null object\n",
      "Age                             1200 non-null int64\n",
      "Gender                          1200 non-null object\n",
      "EducationBackground             1200 non-null object\n",
      "MaritalStatus                   1200 non-null object\n",
      "EmpDepartment                   1200 non-null object\n",
      "EmpJobRole                      1200 non-null object\n",
      "BusinessTravelFrequency         1200 non-null object\n",
      "DistanceFromHome                1200 non-null int64\n",
      "EmpEducationLevel               1200 non-null int64\n",
      "EmpEnvironmentSatisfaction      1200 non-null int64\n",
      "EmpHourlyRate                   1200 non-null int64\n",
      "EmpJobInvolvement               1200 non-null int64\n",
      "EmpJobLevel                     1200 non-null int64\n",
      "EmpJobSatisfaction              1200 non-null int64\n",
      "NumCompaniesWorked              1200 non-null int64\n",
      "OverTime                        1200 non-null object\n",
      "EmpLastSalaryHikePercent        1200 non-null int64\n",
      "EmpRelationshipSatisfaction     1200 non-null int64\n",
      "TotalWorkExperienceInYears      1200 non-null int64\n",
      "TrainingTimesLastYear           1200 non-null int64\n",
      "EmpWorkLifeBalance              1200 non-null int64\n",
      "ExperienceYearsAtThisCompany    1200 non-null int64\n",
      "ExperienceYearsInCurrentRole    1200 non-null int64\n",
      "YearsSinceLastPromotion         1200 non-null int64\n",
      "YearsWithCurrManager            1200 non-null int64\n",
      "Attrition                       1200 non-null object\n",
      "PerformanceRating               1200 non-null int64\n",
      "dtypes: int64(19), object(9)\n",
      "memory usage: 262.6+ KB\n"
     ]
    }
   ],
   "source": [
    "emp.info()"
   ]
  },
  {
   "cell_type": "code",
   "execution_count": 4,
   "metadata": {
    "collapsed": true
   },
   "outputs": [],
   "source": [
    "emp=emp.drop('EmpNumber',axis=1)"
   ]
  },
  {
   "cell_type": "code",
   "execution_count": 31,
   "metadata": {},
   "outputs": [
    {
     "data": {
      "text/html": [
       "<div>\n",
       "<style>\n",
       "    .dataframe thead tr:only-child th {\n",
       "        text-align: right;\n",
       "    }\n",
       "\n",
       "    .dataframe thead th {\n",
       "        text-align: left;\n",
       "    }\n",
       "\n",
       "    .dataframe tbody tr th {\n",
       "        vertical-align: top;\n",
       "    }\n",
       "</style>\n",
       "<table border=\"1\" class=\"dataframe\">\n",
       "  <thead>\n",
       "    <tr style=\"text-align: right;\">\n",
       "      <th></th>\n",
       "      <th>Age</th>\n",
       "      <th>DistanceFromHome</th>\n",
       "      <th>EmpEducationLevel</th>\n",
       "      <th>EmpEnvironmentSatisfaction</th>\n",
       "      <th>EmpHourlyRate</th>\n",
       "      <th>EmpJobInvolvement</th>\n",
       "      <th>EmpJobLevel</th>\n",
       "      <th>EmpJobSatisfaction</th>\n",
       "      <th>NumCompaniesWorked</th>\n",
       "      <th>EmpLastSalaryHikePercent</th>\n",
       "      <th>...</th>\n",
       "      <th>EmpJobRole_Senior Manager R&amp;D</th>\n",
       "      <th>EmpJobRole_Technical Architect</th>\n",
       "      <th>EmpJobRole_Technical Lead</th>\n",
       "      <th>BusinessTravelFrequency_Non-Travel</th>\n",
       "      <th>BusinessTravelFrequency_Travel_Frequently</th>\n",
       "      <th>BusinessTravelFrequency_Travel_Rarely</th>\n",
       "      <th>OverTime_No</th>\n",
       "      <th>OverTime_Yes</th>\n",
       "      <th>Attrition_No</th>\n",
       "      <th>Attrition_Yes</th>\n",
       "    </tr>\n",
       "  </thead>\n",
       "  <tbody>\n",
       "    <tr>\n",
       "      <th>0</th>\n",
       "      <td>32</td>\n",
       "      <td>10</td>\n",
       "      <td>3</td>\n",
       "      <td>4</td>\n",
       "      <td>55</td>\n",
       "      <td>3</td>\n",
       "      <td>2</td>\n",
       "      <td>4</td>\n",
       "      <td>1</td>\n",
       "      <td>12</td>\n",
       "      <td>...</td>\n",
       "      <td>0</td>\n",
       "      <td>0</td>\n",
       "      <td>0</td>\n",
       "      <td>0</td>\n",
       "      <td>0</td>\n",
       "      <td>1</td>\n",
       "      <td>1</td>\n",
       "      <td>0</td>\n",
       "      <td>1</td>\n",
       "      <td>0</td>\n",
       "    </tr>\n",
       "    <tr>\n",
       "      <th>1</th>\n",
       "      <td>47</td>\n",
       "      <td>14</td>\n",
       "      <td>4</td>\n",
       "      <td>4</td>\n",
       "      <td>42</td>\n",
       "      <td>3</td>\n",
       "      <td>2</td>\n",
       "      <td>1</td>\n",
       "      <td>2</td>\n",
       "      <td>12</td>\n",
       "      <td>...</td>\n",
       "      <td>0</td>\n",
       "      <td>0</td>\n",
       "      <td>0</td>\n",
       "      <td>0</td>\n",
       "      <td>0</td>\n",
       "      <td>1</td>\n",
       "      <td>1</td>\n",
       "      <td>0</td>\n",
       "      <td>1</td>\n",
       "      <td>0</td>\n",
       "    </tr>\n",
       "    <tr>\n",
       "      <th>2</th>\n",
       "      <td>40</td>\n",
       "      <td>5</td>\n",
       "      <td>4</td>\n",
       "      <td>4</td>\n",
       "      <td>48</td>\n",
       "      <td>2</td>\n",
       "      <td>3</td>\n",
       "      <td>1</td>\n",
       "      <td>5</td>\n",
       "      <td>21</td>\n",
       "      <td>...</td>\n",
       "      <td>0</td>\n",
       "      <td>0</td>\n",
       "      <td>0</td>\n",
       "      <td>0</td>\n",
       "      <td>1</td>\n",
       "      <td>0</td>\n",
       "      <td>0</td>\n",
       "      <td>1</td>\n",
       "      <td>1</td>\n",
       "      <td>0</td>\n",
       "    </tr>\n",
       "    <tr>\n",
       "      <th>3</th>\n",
       "      <td>41</td>\n",
       "      <td>10</td>\n",
       "      <td>4</td>\n",
       "      <td>2</td>\n",
       "      <td>73</td>\n",
       "      <td>2</td>\n",
       "      <td>5</td>\n",
       "      <td>4</td>\n",
       "      <td>3</td>\n",
       "      <td>15</td>\n",
       "      <td>...</td>\n",
       "      <td>0</td>\n",
       "      <td>0</td>\n",
       "      <td>0</td>\n",
       "      <td>0</td>\n",
       "      <td>0</td>\n",
       "      <td>1</td>\n",
       "      <td>1</td>\n",
       "      <td>0</td>\n",
       "      <td>1</td>\n",
       "      <td>0</td>\n",
       "    </tr>\n",
       "    <tr>\n",
       "      <th>4</th>\n",
       "      <td>60</td>\n",
       "      <td>16</td>\n",
       "      <td>4</td>\n",
       "      <td>1</td>\n",
       "      <td>84</td>\n",
       "      <td>3</td>\n",
       "      <td>2</td>\n",
       "      <td>1</td>\n",
       "      <td>8</td>\n",
       "      <td>14</td>\n",
       "      <td>...</td>\n",
       "      <td>0</td>\n",
       "      <td>0</td>\n",
       "      <td>0</td>\n",
       "      <td>0</td>\n",
       "      <td>0</td>\n",
       "      <td>1</td>\n",
       "      <td>1</td>\n",
       "      <td>0</td>\n",
       "      <td>1</td>\n",
       "      <td>0</td>\n",
       "    </tr>\n",
       "  </tbody>\n",
       "</table>\n",
       "<p>5 rows × 64 columns</p>\n",
       "</div>"
      ],
      "text/plain": [
       "   Age  DistanceFromHome  EmpEducationLevel  EmpEnvironmentSatisfaction  \\\n",
       "0   32                10                  3                           4   \n",
       "1   47                14                  4                           4   \n",
       "2   40                 5                  4                           4   \n",
       "3   41                10                  4                           2   \n",
       "4   60                16                  4                           1   \n",
       "\n",
       "   EmpHourlyRate  EmpJobInvolvement  EmpJobLevel  EmpJobSatisfaction  \\\n",
       "0             55                  3            2                   4   \n",
       "1             42                  3            2                   1   \n",
       "2             48                  2            3                   1   \n",
       "3             73                  2            5                   4   \n",
       "4             84                  3            2                   1   \n",
       "\n",
       "   NumCompaniesWorked  EmpLastSalaryHikePercent      ...       \\\n",
       "0                   1                        12      ...        \n",
       "1                   2                        12      ...        \n",
       "2                   5                        21      ...        \n",
       "3                   3                        15      ...        \n",
       "4                   8                        14      ...        \n",
       "\n",
       "   EmpJobRole_Senior Manager R&D  EmpJobRole_Technical Architect  \\\n",
       "0                              0                               0   \n",
       "1                              0                               0   \n",
       "2                              0                               0   \n",
       "3                              0                               0   \n",
       "4                              0                               0   \n",
       "\n",
       "   EmpJobRole_Technical Lead  BusinessTravelFrequency_Non-Travel  \\\n",
       "0                          0                                   0   \n",
       "1                          0                                   0   \n",
       "2                          0                                   0   \n",
       "3                          0                                   0   \n",
       "4                          0                                   0   \n",
       "\n",
       "   BusinessTravelFrequency_Travel_Frequently  \\\n",
       "0                                          0   \n",
       "1                                          0   \n",
       "2                                          1   \n",
       "3                                          0   \n",
       "4                                          0   \n",
       "\n",
       "   BusinessTravelFrequency_Travel_Rarely  OverTime_No  OverTime_Yes  \\\n",
       "0                                      1            1             0   \n",
       "1                                      1            1             0   \n",
       "2                                      0            0             1   \n",
       "3                                      1            1             0   \n",
       "4                                      1            1             0   \n",
       "\n",
       "   Attrition_No Attrition_Yes  \n",
       "0             1             0  \n",
       "1             1             0  \n",
       "2             1             0  \n",
       "3             1             0  \n",
       "4             1             0  \n",
       "\n",
       "[5 rows x 64 columns]"
      ]
     },
     "execution_count": 31,
     "metadata": {},
     "output_type": "execute_result"
    }
   ],
   "source": [
    "emp.head()"
   ]
  },
  {
   "cell_type": "code",
   "execution_count": 5,
   "metadata": {},
   "outputs": [
    {
     "data": {
      "text/plain": [
       "Age                             0\n",
       "Gender                          0\n",
       "EducationBackground             0\n",
       "MaritalStatus                   0\n",
       "EmpDepartment                   0\n",
       "EmpJobRole                      0\n",
       "BusinessTravelFrequency         0\n",
       "DistanceFromHome                0\n",
       "EmpEducationLevel               0\n",
       "EmpEnvironmentSatisfaction      0\n",
       "EmpHourlyRate                   0\n",
       "EmpJobInvolvement               0\n",
       "EmpJobLevel                     0\n",
       "EmpJobSatisfaction              0\n",
       "NumCompaniesWorked              0\n",
       "OverTime                        0\n",
       "EmpLastSalaryHikePercent        0\n",
       "EmpRelationshipSatisfaction     0\n",
       "TotalWorkExperienceInYears      0\n",
       "TrainingTimesLastYear           0\n",
       "EmpWorkLifeBalance              0\n",
       "ExperienceYearsAtThisCompany    0\n",
       "ExperienceYearsInCurrentRole    0\n",
       "YearsSinceLastPromotion         0\n",
       "YearsWithCurrManager            0\n",
       "Attrition                       0\n",
       "PerformanceRating               0\n",
       "dtype: int64"
      ]
     },
     "execution_count": 5,
     "metadata": {},
     "output_type": "execute_result"
    }
   ],
   "source": [
    "emp.isnull().sum()"
   ]
  },
  {
   "cell_type": "code",
   "execution_count": 6,
   "metadata": {
    "collapsed": true
   },
   "outputs": [],
   "source": [
    "#making a copy of the dataframe as backup\n",
    "emp1=emp.copy()"
   ]
  },
  {
   "cell_type": "code",
   "execution_count": 7,
   "metadata": {},
   "outputs": [
    {
     "data": {
      "text/plain": [
       "<matplotlib.axes._subplots.AxesSubplot at 0x2026c7294a8>"
      ]
     },
     "execution_count": 7,
     "metadata": {},
     "output_type": "execute_result"
    },
    {
     "data": {
      "image/png": "[encoded data removed]",
      "text/plain": [
       "<matplotlib.figure.Figure at 0x2026c4526d8>"
      ]
     },
     "metadata": {},
     "output_type": "display_data"
    }
   ],
   "source": [
    "#exploring the target column\n",
    "#normalizing the no.of employees for each rating in percentages with the help of normalize option\n",
    "emp.PerformanceRating.value_counts(normalize=True).plot(kind='bar')"
   ]
  },
  {
   "cell_type": "code",
   "execution_count": 8,
   "metadata": {},
   "outputs": [
    {
     "data": {
      "text/plain": [
       "Age                              int64\n",
       "Gender                          object\n",
       "EducationBackground             object\n",
       "MaritalStatus                   object\n",
       "EmpDepartment                   object\n",
       "EmpJobRole                      object\n",
       "BusinessTravelFrequency         object\n",
       "DistanceFromHome                 int64\n",
       "EmpEducationLevel                int64\n",
       "EmpEnvironmentSatisfaction       int64\n",
       "EmpHourlyRate                    int64\n",
       "EmpJobInvolvement                int64\n",
       "EmpJobLevel                      int64\n",
       "EmpJobSatisfaction               int64\n",
       "NumCompaniesWorked               int64\n",
       "OverTime                        object\n",
       "EmpLastSalaryHikePercent         int64\n",
       "EmpRelationshipSatisfaction      int64\n",
       "TotalWorkExperienceInYears       int64\n",
       "TrainingTimesLastYear            int64\n",
       "EmpWorkLifeBalance               int64\n",
       "ExperienceYearsAtThisCompany     int64\n",
       "ExperienceYearsInCurrentRole     int64\n",
       "YearsSinceLastPromotion          int64\n",
       "YearsWithCurrManager             int64\n",
       "Attrition                       object\n",
       "PerformanceRating                int64\n",
       "dtype: object"
      ]
     },
     "execution_count": 8,
     "metadata": {},
     "output_type": "execute_result"
    }
   ],
   "source": [
    "#getting datatypes of each column\n",
    "emp.dtypes"
   ]
  },
  {
   "cell_type": "code",
   "execution_count": 9,
   "metadata": {
    "collapsed": true
   },
   "outputs": [],
   "source": [
    "#making a list of character datatype columns\n",
    "cat_cols=emp.select_dtypes(include=['object']).columns.tolist()"
   ]
  },
  {
   "cell_type": "code",
   "execution_count": 10,
   "metadata": {},
   "outputs": [
    {
     "data": {
      "text/plain": [
       "['Gender',\n",
       " 'EducationBackground',\n",
       " 'MaritalStatus',\n",
       " 'EmpDepartment',\n",
       " 'EmpJobRole',\n",
       " 'BusinessTravelFrequency',\n",
       " 'OverTime',\n",
       " 'Attrition']"
      ]
     },
     "execution_count": 10,
     "metadata": {},
     "output_type": "execute_result"
    }
   ],
   "source": [
    "cat_cols"
   ]
  },
  {
   "cell_type": "code",
   "execution_count": 11,
   "metadata": {
    "collapsed": true
   },
   "outputs": [],
   "source": [
    "num_cols=emp1.drop(cat_cols,axis=1).columns.tolist()"
   ]
  },
  {
   "cell_type": "code",
   "execution_count": 12,
   "metadata": {},
   "outputs": [
    {
     "data": {
      "text/plain": [
       "['Age',\n",
       " 'DistanceFromHome',\n",
       " 'EmpEducationLevel',\n",
       " 'EmpEnvironmentSatisfaction',\n",
       " 'EmpHourlyRate',\n",
       " 'EmpJobInvolvement',\n",
       " 'EmpJobLevel',\n",
       " 'EmpJobSatisfaction',\n",
       " 'NumCompaniesWorked',\n",
       " 'EmpLastSalaryHikePercent',\n",
       " 'EmpRelationshipSatisfaction',\n",
       " 'TotalWorkExperienceInYears',\n",
       " 'TrainingTimesLastYear',\n",
       " 'EmpWorkLifeBalance',\n",
       " 'ExperienceYearsAtThisCompany',\n",
       " 'ExperienceYearsInCurrentRole',\n",
       " 'YearsSinceLastPromotion',\n",
       " 'YearsWithCurrManager',\n",
       " 'PerformanceRating']"
      ]
     },
     "execution_count": 12,
     "metadata": {},
     "output_type": "execute_result"
    }
   ],
   "source": [
    "num_cols"
   ]
  },
  {
   "cell_type": "code",
   "execution_count": 13,
   "metadata": {
    "collapsed": true
   },
   "outputs": [],
   "source": [
    "num_cols.remove('PerformanceRating')"
   ]
  },
  {
   "cell_type": "code",
   "execution_count": 14,
   "metadata": {},
   "outputs": [
    {
     "data": {
      "text/plain": [
       "<matplotlib.axes._subplots.AxesSubplot at 0x2026c6c5cc0>"
      ]
     },
     "execution_count": 14,
     "metadata": {},
     "output_type": "execute_result"
    },
    {
     "data": {
      "image/png": "[encoded data removed]",
      "text/plain": [
       "<matplotlib.figure.Figure at 0x202687e4940>"
      ]
     },
     "metadata": {},
     "output_type": "display_data"
    }
   ],
   "source": [
    "emp.Attrition.value_counts(normalize=True).plot(kind='bar')"
   ]
  },
  {
   "cell_type": "code",
   "execution_count": 15,
   "metadata": {},
   "outputs": [
    {
     "data": {
      "text/plain": [
       "<matplotlib.axes._subplots.AxesSubplot at 0x2026ccd3f28>"
      ]
     },
     "execution_count": 15,
     "metadata": {},
     "output_type": "execute_result"
    },
    {
     "data": {
      "image/png": "[encoded data removed]",
      "text/plain": [
       "<matplotlib.figure.Figure at 0x2026cce5eb8>"
      ]
     },
     "metadata": {},
     "output_type": "display_data"
    }
   ],
   "source": [
    "emp.Gender[(emp.Attrition=='Yes')].value_counts(normalize=True).plot(kind='bar')"
   ]
  },
  {
   "cell_type": "code",
   "execution_count": 16,
   "metadata": {},
   "outputs": [
    {
     "data": {
      "text/plain": [
       "<matplotlib.axes._subplots.AxesSubplot at 0x2026ccfc358>"
      ]
     },
     "execution_count": 16,
     "metadata": {},
     "output_type": "execute_result"
    },
    {
     "data": {
      "image/png": "[encoded data removed]",
      "text/plain": [
       "<matplotlib.figure.Figure at 0x2026cd63198>"
      ]
     },
     "metadata": {},
     "output_type": "display_data"
    }
   ],
   "source": [
    "emp.MaritalStatus[(emp.Attrition=='Yes') & (emp.Gender=='Male')].value_counts(normalize=True).plot(kind='bar')"
   ]
  },
  {
   "cell_type": "code",
   "execution_count": 18,
   "metadata": {},
   "outputs": [
    {
     "data": {
      "text/plain": [
       "<matplotlib.axes._subplots.AxesSubplot at 0x2026c57f208>"
      ]
     },
     "execution_count": 18,
     "metadata": {},
     "output_type": "execute_result"
    },
    {
     "data": {
      "image/png": "[encoded data removed]",
      "text/plain": [
       "<matplotlib.figure.Figure at 0x2026cd57c18>"
      ]
     },
     "metadata": {},
     "output_type": "display_data"
    }
   ],
   "source": [
    "emp['DistanceFromHome1']=pd.cut(emp.DistanceFromHome,bins=5)\n",
    "emp.DistanceFromHome1[(emp.Attrition=='Yes')].value_counts(normalize=True).plot(kind='bar')"
   ]
  },
  {
   "cell_type": "code",
   "execution_count": 19,
   "metadata": {},
   "outputs": [
    {
     "data": {
      "text/plain": [
       "[(6.6, 12.2], (12.2, 17.8], (0.972, 6.6], (23.4, 29.0], (17.8, 23.4]]\n",
       "Categories (5, interval[float64]): [(0.972, 6.6] < (6.6, 12.2] < (12.2, 17.8] < (17.8, 23.4] < (23.4, 29.0]]"
      ]
     },
     "execution_count": 19,
     "metadata": {},
     "output_type": "execute_result"
    }
   ],
   "source": [
    "emp.DistanceFromHome1.unique()"
   ]
  },
  {
   "cell_type": "markdown",
   "metadata": {},
   "source": [
    "### Department Wise Analysis"
   ]
  },
  {
   "cell_type": "code",
   "execution_count": 20,
   "metadata": {},
   "outputs": [
    {
     "data": {
      "text/plain": [
       "<matplotlib.axes._subplots.AxesSubplot at 0x2026d00dcf8>"
      ]
     },
     "execution_count": 20,
     "metadata": {},
     "output_type": "execute_result"
    },
    {
     "data": {
      "image/png": "[encoded data removed]",
      "text/plain": [
       "<matplotlib.figure.Figure at 0x2026cccbc50>"
      ]
     },
     "metadata": {},
     "output_type": "display_data"
    }
   ],
   "source": [
    "# Department wise analysis of attrition in percentages\n",
    "emp.EmpDepartment[emp.Attrition==\"Yes\"].value_counts(normalize=True).plot(kind='bar')"
   ]
  },
  {
   "cell_type": "code",
   "execution_count": 21,
   "metadata": {
    "collapsed": true
   },
   "outputs": [],
   "source": [
    "#replacing OverTime values to 1 and 0 for Yes and No respectively\n",
    "emp['OverTime1']=emp.OverTime.replace({'Yes':1,'No':0})"
   ]
  },
  {
   "cell_type": "code",
   "execution_count": 22,
   "metadata": {},
   "outputs": [
    {
     "data": {
      "text/plain": [
       "<matplotlib.axes._subplots.AxesSubplot at 0x2026d0d5eb8>"
      ]
     },
     "execution_count": 22,
     "metadata": {},
     "output_type": "execute_result"
    },
    {
     "data": {
      "image/png": "[encoded data removed]",
      "text/plain": [
       "<matplotlib.figure.Figure at 0x2026d0e7630>"
      ]
     },
     "metadata": {},
     "output_type": "display_data"
    }
   ],
   "source": [
    "#checking the average EmpLastSalaryHikePercent department wise\n",
    "emp.groupby('EmpDepartment')['OverTime'].count().plot(kind='bar',figsize=(10,5))"
   ]
  },
  {
   "cell_type": "code",
   "execution_count": 23,
   "metadata": {},
   "outputs": [
    {
     "data": {
      "text/plain": [
       "<matplotlib.axes._subplots.AxesSubplot at 0x2026d0ad518>"
      ]
     },
     "execution_count": 23,
     "metadata": {},
     "output_type": "execute_result"
    },
    {
     "data": {
      "image/png": "[encoded data removed]",
      "text/plain": [
       "<matplotlib.figure.Figure at 0x2026d15f400>"
      ]
     },
     "metadata": {},
     "output_type": "display_data"
    }
   ],
   "source": [
    "#checking the average EmpLastSalaryHikePercent department wise\n",
    "emp.groupby('EmpDepartment')['EmpDepartment','EmpLastSalaryHikePercent'].mean().plot(kind='bar',figsize=(10,5))"
   ]
  },
  {
   "cell_type": "code",
   "execution_count": 24,
   "metadata": {},
   "outputs": [
    {
     "data": {
      "text/plain": [
       "<matplotlib.axes._subplots.AxesSubplot at 0x2026d346a90>"
      ]
     },
     "execution_count": 24,
     "metadata": {},
     "output_type": "execute_result"
    },
    {
     "data": {
      "image/png": "[encoded data removed]",
      "text/plain": [
       "<matplotlib.figure.Figure at 0x2026d31d278>"
      ]
     },
     "metadata": {},
     "output_type": "display_data"
    }
   ],
   "source": [
    "#checking the average EmpHourlyRate department wise\n",
    "emp.groupby('EmpDepartment')['EmpDepartment','EmpHourlyRate'].mean().plot(kind='bar',figsize=(10,5))"
   ]
  },
  {
   "cell_type": "code",
   "execution_count": 25,
   "metadata": {},
   "outputs": [
    {
     "data": {
      "text/plain": [
       "<matplotlib.axes._subplots.AxesSubplot at 0x2026d3eb550>"
      ]
     },
     "execution_count": 25,
     "metadata": {},
     "output_type": "execute_result"
    },
    {
     "data": {
      "image/png": "[encoded data removed]",
      "text/plain": [
       "<matplotlib.figure.Figure at 0x2026d3fbc18>"
      ]
     },
     "metadata": {},
     "output_type": "display_data"
    }
   ],
   "source": [
    "#checking the average YearsSinceLastPromotion department wise\n",
    "emp.groupby('EmpDepartment')['EmpDepartment','YearsSinceLastPromotion'].mean().plot(kind='bar',figsize=(10,5))\n"
   ]
  },
  {
   "cell_type": "code",
   "execution_count": 26,
   "metadata": {},
   "outputs": [
    {
     "data": {
      "text/plain": [
       "<matplotlib.axes._subplots.AxesSubplot at 0x2026d488668>"
      ]
     },
     "execution_count": 26,
     "metadata": {},
     "output_type": "execute_result"
    },
    {
     "data": {
      "image/png": "[encoded data removed]",
      "text/plain": [
       "<matplotlib.figure.Figure at 0x2026d49bc18>"
      ]
     },
     "metadata": {},
     "output_type": "display_data"
    }
   ],
   "source": [
    "#checking the average EmpWorkLifeBalance department wise\n",
    "emp.groupby('EmpDepartment')['EmpDepartment','EmpWorkLifeBalance'].mean().plot(kind='bar',figsize=(10,5))\n"
   ]
  },
  {
   "cell_type": "code",
   "execution_count": 27,
   "metadata": {},
   "outputs": [
    {
     "data": {
      "text/plain": [
       "<matplotlib.axes._subplots.AxesSubplot at 0x2026d4c8128>"
      ]
     },
     "execution_count": 27,
     "metadata": {},
     "output_type": "execute_result"
    },
    {
     "data": {
      "image/png": "[encoded data removed]",
      "text/plain": [
       "<matplotlib.figure.Figure at 0x2026d6659b0>"
      ]
     },
     "metadata": {},
     "output_type": "display_data"
    }
   ],
   "source": [
    "#checking the average TrainingTimesLastYear department wise\n",
    "emp.groupby('EmpDepartment')['EmpDepartment','TrainingTimesLastYear'].mean().plot(kind='bar',figsize=(10,5))\n"
   ]
  },
  {
   "cell_type": "code",
   "execution_count": 28,
   "metadata": {},
   "outputs": [
    {
     "data": {
      "text/plain": [
       "<matplotlib.axes._subplots.AxesSubplot at 0x2026d68f320>"
      ]
     },
     "execution_count": 28,
     "metadata": {},
     "output_type": "execute_result"
    },
    {
     "data": {
      "image/png": "[encoded data removed]",
      "text/plain": [
       "<matplotlib.figure.Figure at 0x2026d812ef0>"
      ]
     },
     "metadata": {},
     "output_type": "display_data"
    }
   ],
   "source": [
    "emp.Gender[(emp.Attrition=='Yes') & (emp.EmpDepartment=='Sales')].value_counts(normalize=True).plot(kind='bar')"
   ]
  },
  {
   "cell_type": "code",
   "execution_count": 29,
   "metadata": {},
   "outputs": [
    {
     "data": {
      "image/png": "[encoded data removed]",
      "text/plain": [
       "<matplotlib.figure.Figure at 0x2026d9c1710>"
      ]
     },
     "metadata": {},
     "output_type": "display_data"
    },
    {
     "data": {
      "image/png": "[encoded data removed]",
      "text/plain": [
       "<matplotlib.figure.Figure at 0x2026d9c17f0>"
      ]
     },
     "metadata": {},
     "output_type": "display_data"
    },
    {
     "data": {
      "image/png": "[encoded data removed]",
      "text/plain": [
       "<matplotlib.figure.Figure at 0x2026dae30b8>"
      ]
     },
     "metadata": {},
     "output_type": "display_data"
    },
    {
     "data": {
      "image/png": "[encoded data removed]",
      "text/plain": [
       "<matplotlib.figure.Figure at 0x2026db72a58>"
      ]
     },
     "metadata": {},
     "output_type": "display_data"
    },
    {
     "data": {
      "image/png": "[encoded data removed]",
      "text/plain": [
       "<matplotlib.figure.Figure at 0x2026dc15898>"
      ]
     },
     "metadata": {},
     "output_type": "display_data"
    },
    {
     "data": {
      "image/png": "[encoded data removed]",
      "text/plain": [
       "<matplotlib.figure.Figure at 0x2026dcb07b8>"
      ]
     },
     "metadata": {},
     "output_type": "display_data"
    },
    {
     "data": {
      "image/png": "[encoded data removed]",
      "text/plain": [
       "<matplotlib.figure.Figure at 0x2026dd446a0>"
      ]
     },
     "metadata": {},
     "output_type": "display_data"
    },
    {
     "data": {
      "image/png": "[encoded data removed]",
      "text/plain": [
       "<matplotlib.figure.Figure at 0x2026dd94f98>"
      ]
     },
     "metadata": {},
     "output_type": "display_data"
    },
    {
     "data": {
      "image/png": "[encoded data removed]",
      "text/plain": [
       "<matplotlib.figure.Figure at 0x2026ee56400>"
      ]
     },
     "metadata": {},
     "output_type": "display_data"
    },
    {
     "data": {
      "image/png": "[encoded data removed]",
      "text/plain": [
       "<matplotlib.figure.Figure at 0x2026eeeecf8>"
      ]
     },
     "metadata": {},
     "output_type": "display_data"
    },
    {
     "data": {
      "image/png": "[encoded data removed]",
      "text/plain": [
       "<matplotlib.figure.Figure at 0x2026ef836a0>"
      ]
     },
     "metadata": {},
     "output_type": "display_data"
    },
    {
     "data": {
      "image/png": "[encoded data removed]",
      "text/plain": [
       "<matplotlib.figure.Figure at 0x2026efcd390>"
      ]
     },
     "metadata": {},
     "output_type": "display_data"
    },
    {
     "data": {
      "image/png": "[encoded data removed]",
      "text/plain": [
       "<matplotlib.figure.Figure at 0x2026f0c5208>"
      ]
     },
     "metadata": {},
     "output_type": "display_data"
    },
    {
     "data": {
      "image/png": "[encoded data removed]",
      "text/plain": [
       "<matplotlib.figure.Figure at 0x2026f15cb00>"
      ]
     },
     "metadata": {},
     "output_type": "display_data"
    },
    {
     "data": {
      "image/png": "[encoded data removed]",
      "text/plain": [
       "<matplotlib.figure.Figure at 0x2026f1f36a0>"
      ]
     },
     "metadata": {},
     "output_type": "display_data"
    },
    {
     "data": {
      "image/png": "[encoded data removed]",
      "text/plain": [
       "<matplotlib.figure.Figure at 0x2026f23b390>"
      ]
     },
     "metadata": {},
     "output_type": "display_data"
    },
    {
     "data": {
      "image/png": "[encoded data removed]",
      "text/plain": [
       "<matplotlib.figure.Figure at 0x2026f335208>"
      ]
     },
     "metadata": {},
     "output_type": "display_data"
    },
    {
     "data": {
      "image/png": "[encoded data removed]",
      "text/plain": [
       "<matplotlib.figure.Figure at 0x2026f3d0b00>"
      ]
     },
     "metadata": {},
     "output_type": "display_data"
    }
   ],
   "source": [
    "plt.figure(figsize=(5,5))\n",
    "for i,col in enumerate(num_cols):\n",
    "    plt.figure(i)\n",
    "    plt.title(\"histogram for %s\"%col)\n",
    "    plt.hist(emp[col])"
   ]
  },
  {
   "cell_type": "code",
   "execution_count": 30,
   "metadata": {
    "collapsed": true
   },
   "outputs": [],
   "source": [
    "emp=pd.get_dummies(emp,columns=cat_cols)"
   ]
  },
  {
   "cell_type": "code",
   "execution_count": 192,
   "metadata": {},
   "outputs": [
    {
     "data": {
      "text/html": [
       "<div>\n",
       "<style>\n",
       "    .dataframe thead tr:only-child th {\n",
       "        text-align: right;\n",
       "    }\n",
       "\n",
       "    .dataframe thead th {\n",
       "        text-align: left;\n",
       "    }\n",
       "\n",
       "    .dataframe tbody tr th {\n",
       "        vertical-align: top;\n",
       "    }\n",
       "</style>\n",
       "<table border=\"1\" class=\"dataframe\">\n",
       "  <thead>\n",
       "    <tr style=\"text-align: right;\">\n",
       "      <th></th>\n",
       "      <th>Age</th>\n",
       "      <th>DistanceFromHome</th>\n",
       "      <th>EmpEducationLevel</th>\n",
       "      <th>EmpEnvironmentSatisfaction</th>\n",
       "      <th>EmpHourlyRate</th>\n",
       "      <th>EmpJobInvolvement</th>\n",
       "      <th>EmpJobLevel</th>\n",
       "      <th>EmpJobSatisfaction</th>\n",
       "      <th>NumCompaniesWorked</th>\n",
       "      <th>EmpLastSalaryHikePercent</th>\n",
       "      <th>...</th>\n",
       "      <th>EmpJobRole_Senior Manager R&amp;D</th>\n",
       "      <th>EmpJobRole_Technical Architect</th>\n",
       "      <th>EmpJobRole_Technical Lead</th>\n",
       "      <th>BusinessTravelFrequency_Non-Travel</th>\n",
       "      <th>BusinessTravelFrequency_Travel_Frequently</th>\n",
       "      <th>BusinessTravelFrequency_Travel_Rarely</th>\n",
       "      <th>OverTime_No</th>\n",
       "      <th>OverTime_Yes</th>\n",
       "      <th>Attrition_No</th>\n",
       "      <th>Attrition_Yes</th>\n",
       "    </tr>\n",
       "  </thead>\n",
       "  <tbody>\n",
       "    <tr>\n",
       "      <th>0</th>\n",
       "      <td>32</td>\n",
       "      <td>10</td>\n",
       "      <td>3</td>\n",
       "      <td>4</td>\n",
       "      <td>55</td>\n",
       "      <td>3</td>\n",
       "      <td>2</td>\n",
       "      <td>4</td>\n",
       "      <td>1</td>\n",
       "      <td>12</td>\n",
       "      <td>...</td>\n",
       "      <td>0</td>\n",
       "      <td>0</td>\n",
       "      <td>0</td>\n",
       "      <td>0</td>\n",
       "      <td>0</td>\n",
       "      <td>1</td>\n",
       "      <td>1</td>\n",
       "      <td>0</td>\n",
       "      <td>1</td>\n",
       "      <td>0</td>\n",
       "    </tr>\n",
       "    <tr>\n",
       "      <th>1</th>\n",
       "      <td>47</td>\n",
       "      <td>14</td>\n",
       "      <td>4</td>\n",
       "      <td>4</td>\n",
       "      <td>42</td>\n",
       "      <td>3</td>\n",
       "      <td>2</td>\n",
       "      <td>1</td>\n",
       "      <td>2</td>\n",
       "      <td>12</td>\n",
       "      <td>...</td>\n",
       "      <td>0</td>\n",
       "      <td>0</td>\n",
       "      <td>0</td>\n",
       "      <td>0</td>\n",
       "      <td>0</td>\n",
       "      <td>1</td>\n",
       "      <td>1</td>\n",
       "      <td>0</td>\n",
       "      <td>1</td>\n",
       "      <td>0</td>\n",
       "    </tr>\n",
       "    <tr>\n",
       "      <th>2</th>\n",
       "      <td>40</td>\n",
       "      <td>5</td>\n",
       "      <td>4</td>\n",
       "      <td>4</td>\n",
       "      <td>48</td>\n",
       "      <td>2</td>\n",
       "      <td>3</td>\n",
       "      <td>1</td>\n",
       "      <td>5</td>\n",
       "      <td>21</td>\n",
       "      <td>...</td>\n",
       "      <td>0</td>\n",
       "      <td>0</td>\n",
       "      <td>0</td>\n",
       "      <td>0</td>\n",
       "      <td>1</td>\n",
       "      <td>0</td>\n",
       "      <td>0</td>\n",
       "      <td>1</td>\n",
       "      <td>1</td>\n",
       "      <td>0</td>\n",
       "    </tr>\n",
       "    <tr>\n",
       "      <th>3</th>\n",
       "      <td>41</td>\n",
       "      <td>10</td>\n",
       "      <td>4</td>\n",
       "      <td>2</td>\n",
       "      <td>73</td>\n",
       "      <td>2</td>\n",
       "      <td>5</td>\n",
       "      <td>4</td>\n",
       "      <td>3</td>\n",
       "      <td>15</td>\n",
       "      <td>...</td>\n",
       "      <td>0</td>\n",
       "      <td>0</td>\n",
       "      <td>0</td>\n",
       "      <td>0</td>\n",
       "      <td>0</td>\n",
       "      <td>1</td>\n",
       "      <td>1</td>\n",
       "      <td>0</td>\n",
       "      <td>1</td>\n",
       "      <td>0</td>\n",
       "    </tr>\n",
       "    <tr>\n",
       "      <th>4</th>\n",
       "      <td>60</td>\n",
       "      <td>16</td>\n",
       "      <td>4</td>\n",
       "      <td>1</td>\n",
       "      <td>84</td>\n",
       "      <td>3</td>\n",
       "      <td>2</td>\n",
       "      <td>1</td>\n",
       "      <td>8</td>\n",
       "      <td>14</td>\n",
       "      <td>...</td>\n",
       "      <td>0</td>\n",
       "      <td>0</td>\n",
       "      <td>0</td>\n",
       "      <td>0</td>\n",
       "      <td>0</td>\n",
       "      <td>1</td>\n",
       "      <td>1</td>\n",
       "      <td>0</td>\n",
       "      <td>1</td>\n",
       "      <td>0</td>\n",
       "    </tr>\n",
       "  </tbody>\n",
       "</table>\n",
       "<p>5 rows × 62 columns</p>\n",
       "</div>"
      ],
      "text/plain": [
       "   Age  DistanceFromHome  EmpEducationLevel  EmpEnvironmentSatisfaction  \\\n",
       "0   32                10                  3                           4   \n",
       "1   47                14                  4                           4   \n",
       "2   40                 5                  4                           4   \n",
       "3   41                10                  4                           2   \n",
       "4   60                16                  4                           1   \n",
       "\n",
       "   EmpHourlyRate  EmpJobInvolvement  EmpJobLevel  EmpJobSatisfaction  \\\n",
       "0             55                  3            2                   4   \n",
       "1             42                  3            2                   1   \n",
       "2             48                  2            3                   1   \n",
       "3             73                  2            5                   4   \n",
       "4             84                  3            2                   1   \n",
       "\n",
       "   NumCompaniesWorked  EmpLastSalaryHikePercent      ...        \\\n",
       "0                   1                        12      ...         \n",
       "1                   2                        12      ...         \n",
       "2                   5                        21      ...         \n",
       "3                   3                        15      ...         \n",
       "4                   8                        14      ...         \n",
       "\n",
       "   EmpJobRole_Senior Manager R&D  EmpJobRole_Technical Architect  \\\n",
       "0                              0                               0   \n",
       "1                              0                               0   \n",
       "2                              0                               0   \n",
       "3                              0                               0   \n",
       "4                              0                               0   \n",
       "\n",
       "   EmpJobRole_Technical Lead  BusinessTravelFrequency_Non-Travel  \\\n",
       "0                          0                                   0   \n",
       "1                          0                                   0   \n",
       "2                          0                                   0   \n",
       "3                          0                                   0   \n",
       "4                          0                                   0   \n",
       "\n",
       "   BusinessTravelFrequency_Travel_Frequently  \\\n",
       "0                                          0   \n",
       "1                                          0   \n",
       "2                                          1   \n",
       "3                                          0   \n",
       "4                                          0   \n",
       "\n",
       "   BusinessTravelFrequency_Travel_Rarely  OverTime_No  OverTime_Yes  \\\n",
       "0                                      1            1             0   \n",
       "1                                      1            1             0   \n",
       "2                                      0            0             1   \n",
       "3                                      1            1             0   \n",
       "4                                      1            1             0   \n",
       "\n",
       "   Attrition_No  Attrition_Yes  \n",
       "0             1              0  \n",
       "1             1              0  \n",
       "2             1              0  \n",
       "3             1              0  \n",
       "4             1              0  \n",
       "\n",
       "[5 rows x 62 columns]"
      ]
     },
     "execution_count": 192,
     "metadata": {},
     "output_type": "execute_result"
    }
   ],
   "source": [
    "emp1.head()"
   ]
  },
  {
   "cell_type": "code",
   "execution_count": 35,
   "metadata": {},
   "outputs": [
    {
     "name": "stdout",
     "output_type": "stream",
     "text": [
      "<class 'pandas.core.frame.DataFrame'>\n",
      "RangeIndex: 1200 entries, 0 to 1199\n",
      "Data columns (total 64 columns):\n",
      "Age                                          1200 non-null int64\n",
      "DistanceFromHome                             1200 non-null int64\n",
      "EmpEducationLevel                            1200 non-null int64\n",
      "EmpEnvironmentSatisfaction                   1200 non-null int64\n",
      "EmpHourlyRate                                1200 non-null int64\n",
      "EmpJobInvolvement                            1200 non-null int64\n",
      "EmpJobLevel                                  1200 non-null int64\n",
      "EmpJobSatisfaction                           1200 non-null int64\n",
      "NumCompaniesWorked                           1200 non-null int64\n",
      "EmpLastSalaryHikePercent                     1200 non-null int64\n",
      "EmpRelationshipSatisfaction                  1200 non-null int64\n",
      "TotalWorkExperienceInYears                   1200 non-null int64\n",
      "TrainingTimesLastYear                        1200 non-null int64\n",
      "EmpWorkLifeBalance                           1200 non-null int64\n",
      "ExperienceYearsAtThisCompany                 1200 non-null int64\n",
      "ExperienceYearsInCurrentRole                 1200 non-null int64\n",
      "YearsSinceLastPromotion                      1200 non-null int64\n",
      "YearsWithCurrManager                         1200 non-null int64\n",
      "PerformanceRating                            1200 non-null int64\n",
      "DistanceFromHome1                            1200 non-null category\n",
      "OverTime1                                    1200 non-null int64\n",
      "Gender_Female                                1200 non-null uint8\n",
      "Gender_Male                                  1200 non-null uint8\n",
      "EducationBackground_Human Resources          1200 non-null uint8\n",
      "EducationBackground_Life Sciences            1200 non-null uint8\n",
      "EducationBackground_Marketing                1200 non-null uint8\n",
      "EducationBackground_Medical                  1200 non-null uint8\n",
      "EducationBackground_Other                    1200 non-null uint8\n",
      "EducationBackground_Technical Degree         1200 non-null uint8\n",
      "MaritalStatus_Divorced                       1200 non-null uint8\n",
      "MaritalStatus_Married                        1200 non-null uint8\n",
      "MaritalStatus_Single                         1200 non-null uint8\n",
      "EmpDepartment_Data Science                   1200 non-null uint8\n",
      "EmpDepartment_Development                    1200 non-null uint8\n",
      "EmpDepartment_Finance                        1200 non-null uint8\n",
      "EmpDepartment_Human Resources                1200 non-null uint8\n",
      "EmpDepartment_Research & Development         1200 non-null uint8\n",
      "EmpDepartment_Sales                          1200 non-null uint8\n",
      "EmpJobRole_Business Analyst                  1200 non-null uint8\n",
      "EmpJobRole_Data Scientist                    1200 non-null uint8\n",
      "EmpJobRole_Delivery Manager                  1200 non-null uint8\n",
      "EmpJobRole_Developer                         1200 non-null uint8\n",
      "EmpJobRole_Finance Manager                   1200 non-null uint8\n",
      "EmpJobRole_Healthcare Representative         1200 non-null uint8\n",
      "EmpJobRole_Human Resources                   1200 non-null uint8\n",
      "EmpJobRole_Laboratory Technician             1200 non-null uint8\n",
      "EmpJobRole_Manager                           1200 non-null uint8\n",
      "EmpJobRole_Manager R&D                       1200 non-null uint8\n",
      "EmpJobRole_Manufacturing Director            1200 non-null uint8\n",
      "EmpJobRole_Research Director                 1200 non-null uint8\n",
      "EmpJobRole_Research Scientist                1200 non-null uint8\n",
      "EmpJobRole_Sales Executive                   1200 non-null uint8\n",
      "EmpJobRole_Sales Representative              1200 non-null uint8\n",
      "EmpJobRole_Senior Developer                  1200 non-null uint8\n",
      "EmpJobRole_Senior Manager R&D                1200 non-null uint8\n",
      "EmpJobRole_Technical Architect               1200 non-null uint8\n",
      "EmpJobRole_Technical Lead                    1200 non-null uint8\n",
      "BusinessTravelFrequency_Non-Travel           1200 non-null uint8\n",
      "BusinessTravelFrequency_Travel_Frequently    1200 non-null uint8\n",
      "BusinessTravelFrequency_Travel_Rarely        1200 non-null uint8\n",
      "OverTime_No                                  1200 non-null uint8\n",
      "OverTime_Yes                                 1200 non-null uint8\n",
      "Attrition_No                                 1200 non-null uint8\n",
      "Attrition_Yes                                1200 non-null uint8\n",
      "dtypes: category(1), int64(20), uint8(43)\n",
      "memory usage: 239.2 KB\n"
     ]
    }
   ],
   "source": [
    "emp.info()"
   ]
  },
  {
   "cell_type": "code",
   "execution_count": 196,
   "metadata": {
    "collapsed": true
   },
   "outputs": [],
   "source": [
    "x=emp1.drop('PerformanceRating',axis=1)\n",
    "y=emp1.PerformanceRating"
   ]
  },
  {
   "cell_type": "code",
   "execution_count": 201,
   "metadata": {},
   "outputs": [
    {
     "data": {
      "text/plain": [
       "(1200,)"
      ]
     },
     "execution_count": 201,
     "metadata": {},
     "output_type": "execute_result"
    }
   ],
   "source": [
    "y.shape"
   ]
  },
  {
   "cell_type": "code",
   "execution_count": 202,
   "metadata": {
    "collapsed": true
   },
   "outputs": [],
   "source": [
    "from sklearn.preprocessing import StandardScaler,minmax_scale"
   ]
  },
  {
   "cell_type": "code",
   "execution_count": 206,
   "metadata": {
    "collapsed": true
   },
   "outputs": [],
   "source": [
    "scaler=StandardScaler()\n",
    "x_scale=pd.DataFrame(scaler.fit_transform(x))"
   ]
  },
  {
   "cell_type": "code",
   "execution_count": 211,
   "metadata": {},
   "outputs": [
    {
     "data": {
      "text/html": [
       "<div>\n",
       "<style>\n",
       "    .dataframe thead tr:only-child th {\n",
       "        text-align: right;\n",
       "    }\n",
       "\n",
       "    .dataframe thead th {\n",
       "        text-align: left;\n",
       "    }\n",
       "\n",
       "    .dataframe tbody tr th {\n",
       "        vertical-align: top;\n",
       "    }\n",
       "</style>\n",
       "<table border=\"1\" class=\"dataframe\">\n",
       "  <thead>\n",
       "    <tr style=\"text-align: right;\">\n",
       "      <th></th>\n",
       "      <th>Age</th>\n",
       "      <th>DistanceFromHome</th>\n",
       "      <th>EmpEducationLevel</th>\n",
       "      <th>EmpEnvironmentSatisfaction</th>\n",
       "      <th>EmpHourlyRate</th>\n",
       "      <th>EmpJobInvolvement</th>\n",
       "      <th>EmpJobLevel</th>\n",
       "      <th>EmpJobSatisfaction</th>\n",
       "      <th>NumCompaniesWorked</th>\n",
       "      <th>EmpLastSalaryHikePercent</th>\n",
       "      <th>...</th>\n",
       "      <th>EmpJobRole_Senior Manager R&amp;D</th>\n",
       "      <th>EmpJobRole_Technical Architect</th>\n",
       "      <th>EmpJobRole_Technical Lead</th>\n",
       "      <th>BusinessTravelFrequency_Non-Travel</th>\n",
       "      <th>BusinessTravelFrequency_Travel_Frequently</th>\n",
       "      <th>BusinessTravelFrequency_Travel_Rarely</th>\n",
       "      <th>OverTime_No</th>\n",
       "      <th>OverTime_Yes</th>\n",
       "      <th>Attrition_No</th>\n",
       "      <th>Attrition_Yes</th>\n",
       "    </tr>\n",
       "  </thead>\n",
       "  <tbody>\n",
       "    <tr>\n",
       "      <th>0</th>\n",
       "      <td>-0.541458</td>\n",
       "      <td>0.102061</td>\n",
       "      <td>0.103000</td>\n",
       "      <td>1.177978</td>\n",
       "      <td>-0.543569</td>\n",
       "      <td>0.379608</td>\n",
       "      <td>-0.060955</td>\n",
       "      <td>1.151824</td>\n",
       "      <td>-0.674538</td>\n",
       "      <td>-0.889111</td>\n",
       "      <td>...</td>\n",
       "      <td>-0.112509</td>\n",
       "      <td>-0.0766</td>\n",
       "      <td>-0.180838</td>\n",
       "      <td>-0.351562</td>\n",
       "      <td>-0.476439</td>\n",
       "      <td>0.646869</td>\n",
       "      <td>0.645573</td>\n",
       "      <td>-0.645573</td>\n",
       "      <td>0.417335</td>\n",
       "      <td>-0.417335</td>\n",
       "    </tr>\n",
       "    <tr>\n",
       "      <th>1</th>\n",
       "      <td>1.109888</td>\n",
       "      <td>0.591464</td>\n",
       "      <td>1.061145</td>\n",
       "      <td>1.177978</td>\n",
       "      <td>-1.187042</td>\n",
       "      <td>0.379608</td>\n",
       "      <td>-0.060955</td>\n",
       "      <td>-1.574386</td>\n",
       "      <td>-0.269410</td>\n",
       "      <td>-0.889111</td>\n",
       "      <td>...</td>\n",
       "      <td>-0.112509</td>\n",
       "      <td>-0.0766</td>\n",
       "      <td>-0.180838</td>\n",
       "      <td>-0.351562</td>\n",
       "      <td>-0.476439</td>\n",
       "      <td>0.646869</td>\n",
       "      <td>0.645573</td>\n",
       "      <td>-0.645573</td>\n",
       "      <td>0.417335</td>\n",
       "      <td>-0.417335</td>\n",
       "    </tr>\n",
       "    <tr>\n",
       "      <th>2</th>\n",
       "      <td>0.339260</td>\n",
       "      <td>-0.509693</td>\n",
       "      <td>1.061145</td>\n",
       "      <td>1.177978</td>\n",
       "      <td>-0.890055</td>\n",
       "      <td>-1.035081</td>\n",
       "      <td>0.842082</td>\n",
       "      <td>-1.574386</td>\n",
       "      <td>0.945974</td>\n",
       "      <td>1.594054</td>\n",
       "      <td>...</td>\n",
       "      <td>-0.112509</td>\n",
       "      <td>-0.0766</td>\n",
       "      <td>-0.180838</td>\n",
       "      <td>-0.351562</td>\n",
       "      <td>2.098906</td>\n",
       "      <td>-1.545908</td>\n",
       "      <td>-1.549010</td>\n",
       "      <td>1.549010</td>\n",
       "      <td>0.417335</td>\n",
       "      <td>-0.417335</td>\n",
       "    </tr>\n",
       "    <tr>\n",
       "      <th>3</th>\n",
       "      <td>0.449349</td>\n",
       "      <td>0.102061</td>\n",
       "      <td>1.061145</td>\n",
       "      <td>-0.656641</td>\n",
       "      <td>0.347393</td>\n",
       "      <td>-1.035081</td>\n",
       "      <td>2.648157</td>\n",
       "      <td>1.151824</td>\n",
       "      <td>0.135718</td>\n",
       "      <td>-0.061389</td>\n",
       "      <td>...</td>\n",
       "      <td>-0.112509</td>\n",
       "      <td>-0.0766</td>\n",
       "      <td>-0.180838</td>\n",
       "      <td>-0.351562</td>\n",
       "      <td>-0.476439</td>\n",
       "      <td>0.646869</td>\n",
       "      <td>0.645573</td>\n",
       "      <td>-0.645573</td>\n",
       "      <td>0.417335</td>\n",
       "      <td>-0.417335</td>\n",
       "    </tr>\n",
       "    <tr>\n",
       "      <th>4</th>\n",
       "      <td>2.541054</td>\n",
       "      <td>0.836165</td>\n",
       "      <td>1.061145</td>\n",
       "      <td>-1.573950</td>\n",
       "      <td>0.891870</td>\n",
       "      <td>0.379608</td>\n",
       "      <td>-0.060955</td>\n",
       "      <td>-1.574386</td>\n",
       "      <td>2.161359</td>\n",
       "      <td>-0.337297</td>\n",
       "      <td>...</td>\n",
       "      <td>-0.112509</td>\n",
       "      <td>-0.0766</td>\n",
       "      <td>-0.180838</td>\n",
       "      <td>-0.351562</td>\n",
       "      <td>-0.476439</td>\n",
       "      <td>0.646869</td>\n",
       "      <td>0.645573</td>\n",
       "      <td>-0.645573</td>\n",
       "      <td>0.417335</td>\n",
       "      <td>-0.417335</td>\n",
       "    </tr>\n",
       "  </tbody>\n",
       "</table>\n",
       "<p>5 rows × 61 columns</p>\n",
       "</div>"
      ],
      "text/plain": [
       "        Age  DistanceFromHome  EmpEducationLevel  EmpEnvironmentSatisfaction  \\\n",
       "0 -0.541458          0.102061           0.103000                    1.177978   \n",
       "1  1.109888          0.591464           1.061145                    1.177978   \n",
       "2  0.339260         -0.509693           1.061145                    1.177978   \n",
       "3  0.449349          0.102061           1.061145                   -0.656641   \n",
       "4  2.541054          0.836165           1.061145                   -1.573950   \n",
       "\n",
       "   EmpHourlyRate  EmpJobInvolvement  EmpJobLevel  EmpJobSatisfaction  \\\n",
       "0      -0.543569           0.379608    -0.060955            1.151824   \n",
       "1      -1.187042           0.379608    -0.060955           -1.574386   \n",
       "2      -0.890055          -1.035081     0.842082           -1.574386   \n",
       "3       0.347393          -1.035081     2.648157            1.151824   \n",
       "4       0.891870           0.379608    -0.060955           -1.574386   \n",
       "\n",
       "   NumCompaniesWorked  EmpLastSalaryHikePercent      ...        \\\n",
       "0           -0.674538                 -0.889111      ...         \n",
       "1           -0.269410                 -0.889111      ...         \n",
       "2            0.945974                  1.594054      ...         \n",
       "3            0.135718                 -0.061389      ...         \n",
       "4            2.161359                 -0.337297      ...         \n",
       "\n",
       "   EmpJobRole_Senior Manager R&D  EmpJobRole_Technical Architect  \\\n",
       "0                      -0.112509                         -0.0766   \n",
       "1                      -0.112509                         -0.0766   \n",
       "2                      -0.112509                         -0.0766   \n",
       "3                      -0.112509                         -0.0766   \n",
       "4                      -0.112509                         -0.0766   \n",
       "\n",
       "   EmpJobRole_Technical Lead  BusinessTravelFrequency_Non-Travel  \\\n",
       "0                  -0.180838                           -0.351562   \n",
       "1                  -0.180838                           -0.351562   \n",
       "2                  -0.180838                           -0.351562   \n",
       "3                  -0.180838                           -0.351562   \n",
       "4                  -0.180838                           -0.351562   \n",
       "\n",
       "   BusinessTravelFrequency_Travel_Frequently  \\\n",
       "0                                  -0.476439   \n",
       "1                                  -0.476439   \n",
       "2                                   2.098906   \n",
       "3                                  -0.476439   \n",
       "4                                  -0.476439   \n",
       "\n",
       "   BusinessTravelFrequency_Travel_Rarely  OverTime_No  OverTime_Yes  \\\n",
       "0                               0.646869     0.645573     -0.645573   \n",
       "1                               0.646869     0.645573     -0.645573   \n",
       "2                              -1.545908    -1.549010      1.549010   \n",
       "3                               0.646869     0.645573     -0.645573   \n",
       "4                               0.646869     0.645573     -0.645573   \n",
       "\n",
       "   Attrition_No  Attrition_Yes  \n",
       "0      0.417335      -0.417335  \n",
       "1      0.417335      -0.417335  \n",
       "2      0.417335      -0.417335  \n",
       "3      0.417335      -0.417335  \n",
       "4      0.417335      -0.417335  \n",
       "\n",
       "[5 rows x 61 columns]"
      ]
     },
     "execution_count": 211,
     "metadata": {},
     "output_type": "execute_result"
    }
   ],
   "source": [
    "x_scale.head()"
   ]
  },
  {
   "cell_type": "code",
   "execution_count": null,
   "metadata": {
    "collapsed": true
   },
   "outputs": [],
   "source": [
    "emp1[emp1.dtypes[(emp1.dtypes==\"float64\")|(emp1.dtypes==\"int64\")].index.values]\n",
    "plt.show()"
   ]
  },
  {
   "cell_type": "code",
   "execution_count": null,
   "metadata": {
    "collapsed": true
   },
   "outputs": [],
   "source": []
  },
  {
   "cell_type": "code",
   "execution_count": null,
   "metadata": {
    "collapsed": true
   },
   "outputs": [],
   "source": []
  }
 ],
 "metadata": {
  "kernelspec": {
   "display_name": "Python 3",
   "language": "python",
   "name": "python3"
  },
  "language_info": {
   "codemirror_mode": {
    "name": "ipython",
    "version": 3
   },
   "file_extension": ".py",
   "mimetype": "text/x-python",
   "name": "python",
   "nbconvert_exporter": "python",
   "pygments_lexer": "ipython3",
   "version": "3.6.2"
  }
 },
 "nbformat": 4,
 "nbformat_minor": 2
}
